{
 "cells": [
  {
   "cell_type": "markdown",
   "metadata": {},
   "source": [
    "## Todo: Parse Solution is our homework"
   ]
  },
  {
   "cell_type": "code",
   "execution_count": 1,
   "metadata": {},
   "outputs": [],
   "source": [
    "from functools import lru_cache\n",
    "\n",
    "def memo(f):\n",
    "    memo.solution = {}\n",
    "    def _wrap(*args):\n",
    "        return f(*args)\n",
    "    return _wrap\n",
    "\n",
    "@lru_cache(maxsize=2**10)\n",
    "def edit_distance(string1, string2):\n",
    "    \n",
    "    if string1 == string2: return 0\n",
    "    if len(string1) == 0: \n",
    "        memo.solution[(string1, string2)] = 'ADD_ALL {}'.format(string2)\n",
    "        return len(string2)\n",
    "    if len(string2) == 0: \n",
    "        memo.solution[(string1, string2)] = 'DEL_ALL {}'.format(string1)\n",
    "        return len(string1)\n",
    "    \n",
    "    tail_s1 = string1[-1]\n",
    "    tail_s2 = string2[-1]\n",
    "    \n",
    "    candidates = [\n",
    "        (edit_distance(string1[:-1], string2) + 1, 'DEL {}'.format(tail_s1)),  \n",
    "        # string 1 delete tail\n",
    "        (edit_distance(string1, string2[:-1]) + 1, 'ADD {}'.format(tail_s2)),  \n",
    "        # string 1 add tail of string2\n",
    "    ]\n",
    "    \n",
    "    if tail_s1 == tail_s2:\n",
    "        both_forward = (edit_distance(string1[:-1], string2[:-1]) + 0, '')\n",
    "    else:\n",
    "        both_forward = (edit_distance(string1[:-1], string2[:-1]) + 1, 'SUB {} => {}'.format(tail_s1, tail_s2))\n",
    "\n",
    "    candidates.append(both_forward)\n",
    "    \n",
    "    min_distance, operation = min(candidates, key=lambda x: x[0])\n",
    "    \n",
    "    memo.solution[(string1, string2)] = operation \n",
    "    \n",
    "    return min_distance\n",
    "\n",
    "def parse_action(str1, str2, res=[]):\n",
    "    if str1 == str2:\n",
    "        return []\n",
    "\n",
    "    action = memo.solution[(str1, str2)]\n",
    "    if \"ALL\" in action:\n",
    "        pass\n",
    "    elif \"ADD\" in action:\n",
    "        parse_action(str1, str2[:-1], res)\n",
    "    elif \"DEL\" in action:\n",
    "        parse_action(str1[:-1], str2[:], res)\n",
    "    else:\n",
    "        parse_action(str1[:-1], str2[:-1], res)       \n",
    "   \n",
    "    res.append(\"'%s' -> '%s' : '%s'\" % (str1, str2, action))\n",
    "    return res\n",
    "\n",
    "@memo\n",
    "def parse_solution(str1, str2):\n",
    "    print(\"min distance is\", edit_distance(str1, str2))\n",
    "    print(\"\\n\".join(parse_action(str1, str2, [])))"
   ]
  },
  {
   "cell_type": "code",
   "execution_count": 2,
   "metadata": {},
   "outputs": [
    {
     "name": "stdout",
     "output_type": "stream",
     "text": [
      "min distance is 5\n",
      "'' -> 'ABACD' : 'ADD_ALL ABACD'\n"
     ]
    }
   ],
   "source": [
    "parse_solution('','ABACD')"
   ]
  },
  {
   "cell_type": "code",
   "execution_count": 3,
   "metadata": {},
   "outputs": [
    {
     "name": "stdout",
     "output_type": "stream",
     "text": [
      "min distance is 3\n",
      "'ABCD' -> 'ABCC' : 'SUB D => C'\n",
      "'ABCDE' -> 'ABCCE' : ''\n",
      "'ABCDEC' -> 'ABCCEF' : 'SUB C => F'\n",
      "'ABCDECG' -> 'ABCCEF' : 'DEL G'\n"
     ]
    }
   ],
   "source": [
    "parse_solution('ABCDECG','ABCCEF')"
   ]
  },
  {
   "cell_type": "code",
   "execution_count": 4,
   "metadata": {},
   "outputs": [
    {
     "name": "stdout",
     "output_type": "stream",
     "text": [
      "min distance is 1\n",
      "'AB' -> 'ABA' : 'ADD A'\n",
      "'ABC' -> 'ABAC' : ''\n",
      "'ABCD' -> 'ABACD' : ''\n"
     ]
    }
   ],
   "source": [
    "parse_solution('ABCD','ABACD')"
   ]
  },
  {
   "cell_type": "markdown",
   "metadata": {},
   "source": [
    "# Problem Case 3: Pinyin Auto Correction Problem"
   ]
  },
  {
   "cell_type": "code",
   "execution_count": 5,
   "metadata": {},
   "outputs": [],
   "source": [
    "chinese_dataset = 'article_9k.txt'"
   ]
  },
  {
   "cell_type": "code",
   "execution_count": 6,
   "metadata": {},
   "outputs": [],
   "source": [
    "CHINESE_CHARATERS = open(chinese_dataset).read()"
   ]
  },
  {
   "cell_type": "code",
   "execution_count": 7,
   "metadata": {},
   "outputs": [
    {
     "data": {
      "text/plain": [
       "'此外自本周6月12日起除小米手机6等15款机型外其余机型已暂停更新发布含开发版体'"
      ]
     },
     "execution_count": 7,
     "metadata": {},
     "output_type": "execute_result"
    }
   ],
   "source": [
    "CHINESE_CHARATERS[:40]"
   ]
  },
  {
   "cell_type": "code",
   "execution_count": 8,
   "metadata": {},
   "outputs": [],
   "source": [
    "import pinyin"
   ]
  },
  {
   "cell_type": "code",
   "execution_count": 9,
   "metadata": {},
   "outputs": [
    {
     "data": {
      "text/plain": [
       "'ni hao ， zhong guo'"
      ]
     },
     "execution_count": 9,
     "metadata": {},
     "output_type": "execute_result"
    }
   ],
   "source": [
    "pinyin.get('你好，中国',format='strip',delimiter=' ')"
   ]
  },
  {
   "cell_type": "code",
   "execution_count": 10,
   "metadata": {},
   "outputs": [],
   "source": [
    "def chinese_to_pinyin(character):\n",
    "    return pinyin.get(character, format='strip', delimiter=' ')"
   ]
  },
  {
   "cell_type": "code",
   "execution_count": 11,
   "metadata": {},
   "outputs": [],
   "source": [
    "CHINESE_CHARATERS_COPYS = chinese_to_pinyin(CHINESE_CHARATERS)"
   ]
  },
  {
   "cell_type": "code",
   "execution_count": 12,
   "metadata": {},
   "outputs": [
    {
     "data": {
      "text/plain": [
       "129433034"
      ]
     },
     "execution_count": 12,
     "metadata": {},
     "output_type": "execute_result"
    }
   ],
   "source": [
    "len(CHINESE_CHARATERS_COPYS)"
   ]
  },
  {
   "cell_type": "code",
   "execution_count": 13,
   "metadata": {},
   "outputs": [],
   "source": [
    "import re"
   ]
  },
  {
   "cell_type": "code",
   "execution_count": 14,
   "metadata": {},
   "outputs": [],
   "source": [
    "def tokens(text):\n",
    "    \"List all the pinyin characters\"\n",
    "    return re.findall('[a-z]+',text.lower())"
   ]
  },
  {
   "cell_type": "code",
   "execution_count": 15,
   "metadata": {},
   "outputs": [
    {
     "data": {
      "text/plain": [
       "'ci wai zi ben zhou 6 yue 1 2 ri qi chu xiao mi shou ji 6 deng 1 5 kuan ji xing wai qi yu ji xing yi '"
      ]
     },
     "execution_count": 15,
     "metadata": {},
     "output_type": "execute_result"
    }
   ],
   "source": [
    "CHINESE_CHARATERS_COPYS[:100]"
   ]
  },
  {
   "cell_type": "code",
   "execution_count": 16,
   "metadata": {},
   "outputs": [
    {
     "data": {
      "text/plain": [
       "['ci',\n",
       " 'wai',\n",
       " 'zi',\n",
       " 'ben',\n",
       " 'zhou',\n",
       " 'yue',\n",
       " 'ri',\n",
       " 'qi',\n",
       " 'chu',\n",
       " 'xiao',\n",
       " 'mi',\n",
       " 'shou',\n",
       " 'ji',\n",
       " 'deng',\n",
       " 'kuan',\n",
       " 'ji',\n",
       " 'xing',\n",
       " 'wai',\n",
       " 'qi',\n",
       " 'yu',\n",
       " 'ji',\n",
       " 'xing',\n",
       " 'yi']"
      ]
     },
     "execution_count": 16,
     "metadata": {},
     "output_type": "execute_result"
    }
   ],
   "source": [
    "tokens(CHINESE_CHARATERS_COPYS[:100])"
   ]
  },
  {
   "cell_type": "code",
   "execution_count": 17,
   "metadata": {},
   "outputs": [],
   "source": [
    "from collections import Counter, defaultdict"
   ]
  },
  {
   "cell_type": "code",
   "execution_count": 18,
   "metadata": {},
   "outputs": [],
   "source": [
    "PINYIN_COUNT = Counter(tokens(CHINESE_CHARATERS_COPYS))"
   ]
  },
  {
   "cell_type": "code",
   "execution_count": 19,
   "metadata": {},
   "outputs": [],
   "source": [
    "def correct(word):\n",
    "    'Find the most possible pinyin based on edit distance'\n",
    "    # Prefer edit distance 0, then 1, then 2; otherwist default to word itself\n",
    "    candidates = (known(edits0(word)) or\n",
    "                  known(edits1(word)) or\n",
    "                  known(edits2(word)) or\n",
    "                  [word])\n",
    "    return max(candidates,key=PINYIN_COUNT.get)\n",
    "\n",
    "def correct(word):\n",
    "    'Find the most possible pinyin based on edit distance'\n",
    "    # Prefer edit distance 0, then 1, then 2; otherwist default to word itself\n",
    "    candidates = (known(edits0(word)) or\n",
    "                  known(edits1(word)) or\n",
    "                  [word])\n",
    "    return max(candidates,key=PINYIN_COUNT.get)"
   ]
  },
  {
   "cell_type": "code",
   "execution_count": 20,
   "metadata": {},
   "outputs": [],
   "source": [
    "def known(words):\n",
    "    'Return the pinyin in our data'\n",
    "    return {w for w in words if w in PINYIN_COUNT}\n",
    "\n",
    "def edits0(word):\n",
    "    'Return all strings that are zero edits away from word (i.e., just word itself).'\n",
    "    return {word}\n",
    "\n",
    "def edits2(word):\n",
    "    'Return all strings that are two edits away from this pinyin.'\n",
    "    return {e2 for e1 in edits1(word) for e2 in edits1(e1)}"
   ]
  },
  {
   "cell_type": "code",
   "execution_count": 21,
   "metadata": {},
   "outputs": [],
   "source": [
    "alphabet = 'abcdefghijklmnopqrstuvwxyz'\n",
    "\n",
    "def splits(word):\n",
    "    'Return a list of all possible (first, rest) pairs that comprise pinyin.'\n",
    "    return [(word[:i], word[i:])\n",
    "           for i in range(len(word)+1)]\n",
    "\n",
    "def edits1(word):\n",
    "    'Return all strings that are one edit away from this pinyin.'\n",
    "    pairs = splits(word)\n",
    "    deletes = [a+b[1:] for (a,b) in pairs if b]\n",
    "    transposes = [a+b[1]+b[0]+b[2:] for (a,b) in pairs if len(b) > 1]\n",
    "    replaces = [a+c+b[1:] for (a,b) in pairs for c in alphabet if b]\n",
    "    inserts = [a+c+b for (a,b) in pairs for c in alphabet]\n",
    "    return set(deletes + transposes + replaces + inserts)"
   ]
  },
  {
   "cell_type": "code",
   "execution_count": 22,
   "metadata": {},
   "outputs": [
    {
     "data": {
      "text/plain": [
       "[('', 'pinyin'),\n",
       " ('p', 'inyin'),\n",
       " ('pi', 'nyin'),\n",
       " ('pin', 'yin'),\n",
       " ('piny', 'in'),\n",
       " ('pinyi', 'n'),\n",
       " ('pinyin', '')]"
      ]
     },
     "execution_count": 22,
     "metadata": {},
     "output_type": "execute_result"
    }
   ],
   "source": [
    "splits('pinyin')"
   ]
  },
  {
   "cell_type": "code",
   "execution_count": 23,
   "metadata": {},
   "outputs": [
    {
     "name": "stdout",
     "output_type": "stream",
     "text": [
      "{'pinyin'}\n"
     ]
    }
   ],
   "source": [
    "print(edits0('pinyin'))"
   ]
  },
  {
   "cell_type": "code",
   "execution_count": 24,
   "metadata": {},
   "outputs": [
    {
     "name": "stdout",
     "output_type": "stream",
     "text": [
      "{'pinyain', 'ypinyin', 'plnyin', 'piunyin', 'pinyinu', 'pijnyin', 'gpinyin', 'pinyinq', 'pxnyin', 'pinyinj', 'oinyin', 'pipnyin', 'pinyip', 'pinwin', 'pinyn', 'pinyzin', 'pinoin', 'pinpyin', 'pinyiny', 'pfinyin', 'pinyxn', 'pixnyin', 'pinyvn', 'pinyiq', 'pidnyin', 'pjinyin', 'pindyin', 'pinyini', 'piynin', 'pinyix', 'rinyin', 'pinyii', 'pieyin', 'pifnyin', 'piniyin', 'pinkyin', 'ginyin', 'pbnyin', 'pimyin', 'pinyio', 'piryin', 'xpinyin', 'piknyin', 'pinyina', 'pioyin', 'yinyin', 'pikyin', 'binyin', 'ponyin', 'pinyiy', 'upinyin', 'pginyin', 'pinypin', 'pinyinn', 'pcnyin', 'ptinyin', 'vinyin', 'pinybn', 'pianyin', 'pvinyin', 'piniyn', 'pincyin', 'pinyint', 'pinkin', 'pkinyin', 'panyin', 'qinyin', 'pindin', 'pinnin', 'pinyjn', 'ipinyin', 'pinjyin', 'pinyicn', 'ainyin', 'pimnyin', 'pinain', 'pinysn', 'pinyni', 'poinyin', 'pinybin', 'pnyin', 'prnyin', 'pinydn', 'pinymn', 'pinyins', 'picnyin', 'pinykn', 'pinyfin', 'pinyrn', 'pjnyin', 'pipyin', 'pincin', 'pinyiqn', 'pinein', 'pinyrin', 'dinyin', 'pinyvin', 'uinyin', 'pinyij', 'ninyin', 'pvnyin', 'einyin', 'pinytin', 'pigyin', 'pixyin', 'pivyin', 'pinycn', 'pinyqn', 'pinyinl', 'pinayin', 'pinygn', 'pinyinm', 'pinyon', 'piqnyin', 'pinyizn', 'pisnyin', 'pinyign', 'pinnyin', 'psnyin', 'kinyin', 'pinyun', 'pinvyin', 'pinyipn', 'dpinyin', 'pinyiyn', 'pinyig', 'pmnyin', 'pinmin', 'qpinyin', 'pfnyin', 'pqinyin', 'pinyivn', 'pinyind', 'pineyin', 'pinyion', 'hinyin', 'pinyian', 'pinyijn', 'piiyin', 'ipnyin', 'painyin', 'piwnyin', 'pinyuin', 'pinzin', 'pinyin', 'pizyin', 'pinytn', 'pijyin', 'piniin', 'pibnyin', 'pilnyin', 'pingyin', 'pinyhin', 'pinpin', 'pihyin', 'cpinyin', 'pinynin', 'minyin', 'pinying', 'rpinyin', 'pinyinr', 'pinyln', 'pinyik', 'apinyin', 'pinyidn', 'pinyyin', 'pinyimn', 'pinqyin', 'pinyixn', 'pinyic', 'pminyin', 'pyinyin', 'pinyih', 'pinyyn', 'tinyin', 'pinyim', 'pwnyin', 'npinyin', 'finyin', 'pinyine', 'punyin', 'pinyiu', 'pinyiwn', 'pinyoin', 'pinxin', 'phnyin', 'plinyin', 'cinyin', 'piuyin', 'pdnyin', 'pdinyin', 'pinyiv', 'pinryin', 'pinxyin', 'inyin', 'pinymin', 'pinywin', 'pinjin', 'pinyinh', 'peinyin', 'lpinyin', 'piynyin', 'pingin', 'pinyzn', 'pinyifn', 'sinyin', 'ppnyin', 'ptnyin', 'pinyinc', 'xinyin', 'pisyin', 'pinhin', 'pinlyin', 'psinyin', 'pinyinz', 'prinyin', 'pinyisn', 'zinyin', 'pinyen', 'pintin', 'piayin', 'pinyie', 'pinbin', 'pinyia', 'picyin', 'piznyin', 'pinyitn', 'piinyin', 'pinuyin', 'pinyinb', 'ppinyin', 'pinuin', 'pignyin', 'pinysin', 'pienyin', 'pinyink', 'phinyin', 'pinhyin', 'pinyinv', 'pitnyin', 'iinyin', 'pqnyin', 'pinyiw', 'pinypn', 'vpinyin', 'pivnyin', 'piyyin', 'pinyiln', 'pznyin', 'pinyinp', 'pinyid', 'pinyir', 'pinyiin', 'pinyib', 'epinyin', 'pinqin', 'pinyfn', 'pzinyin', 'pinyirn', 'pinyihn', 'pinyino', 'pinyhn', 'wpinyin', 'pxinyin', 'pbinyin', 'pwinyin', 'pinin', 'penyin', 'pintyin', 'jpinyin', 'pinyinf', 'pilyin', 'pifyin', 'pinyien', 'pnnyin', 'linyin', 'pcinyin', 'pinynn', 'pinyiun', 'pinyjin', 'pinrin', 'piyin', 'pinyi', 'pibyin', 'pinoyin', 'pinwyin', 'pgnyin', 'pknyin', 'pinlin', 'bpinyin', 'pidyin', 'pinzyin', 'pinyxin', 'pinyinw', 'winyin', 'piwyin', 'opinyin', 'pionyin', 'pinyqin', 'pinygin', 'pinyinx', 'piqyin', 'hpinyin', 'mpinyin', 'fpinyin', 'pihnyin', 'pinsin', 'pinyiz', 'pninyin', 'pinvin', 'pinsyin', 'pinyif', 'tpinyin', 'pinyikn', 'pinydin', 'pinykin', 'pinyibn', 'zpinyin', 'pinyein', 'pinylin', 'pinyil', 'pinfin', 'pityin', 'pinyis', 'pinfyin', 'pynyin', 'pinbyin', 'pinyit', 'pinyan', 'pinycin', 'pirnyin', 'pinmyin', 'pniyin', 'puinyin', 'kpinyin', 'pinywn', 'spinyin', 'jinyin'}\n"
     ]
    }
   ],
   "source": [
    "print(edits1('pinyin'))"
   ]
  },
  {
   "cell_type": "markdown",
   "metadata": {},
   "source": [
    "# Test"
   ]
  },
  {
   "cell_type": "code",
   "execution_count": 25,
   "metadata": {},
   "outputs": [
    {
     "data": {
      "text/plain": [
       "'yin'"
      ]
     },
     "execution_count": 25,
     "metadata": {},
     "output_type": "execute_result"
    }
   ],
   "source": [
    "correct('yin')"
   ]
  },
  {
   "cell_type": "code",
   "execution_count": 26,
   "metadata": {},
   "outputs": [
    {
     "data": {
      "text/plain": [
       "'yigna'"
      ]
     },
     "execution_count": 26,
     "metadata": {},
     "output_type": "execute_result"
    }
   ],
   "source": [
    "correct('yigna')"
   ]
  },
  {
   "cell_type": "code",
   "execution_count": 27,
   "metadata": {},
   "outputs": [
    {
     "data": {
      "text/plain": [
       "'ying'"
      ]
     },
     "execution_count": 27,
     "metadata": {},
     "output_type": "execute_result"
    }
   ],
   "source": [
    "correct('yinn')"
   ]
  },
  {
   "cell_type": "code",
   "execution_count": 28,
   "metadata": {},
   "outputs": [],
   "source": [
    "def correct_sequence_pinyin(text_pinyin):\n",
    "    return ' '.join(map(correct, text_pinyin.split()))"
   ]
  },
  {
   "cell_type": "code",
   "execution_count": 29,
   "metadata": {},
   "outputs": [
    {
     "data": {
      "text/plain": [
       "'zhe shi yi ge ce shi'"
      ]
     },
     "execution_count": 29,
     "metadata": {},
     "output_type": "execute_result"
    }
   ],
   "source": [
    "correct_sequence_pinyin('zhe sih yi ge ce sho')"
   ]
  },
  {
   "cell_type": "code",
   "execution_count": 30,
   "metadata": {},
   "outputs": [
    {
     "data": {
      "text/plain": [
       "'wo xiang shang qing hua da xue'"
      ]
     },
     "execution_count": 30,
     "metadata": {},
     "output_type": "execute_result"
    }
   ],
   "source": [
    "correct_sequence_pinyin('wo xiang shagn qinng hua da xue')"
   ]
  },
  {
   "cell_type": "markdown",
   "metadata": {},
   "source": [
    "# 思考题-homework？    \n",
    "#### 如何在不带空格的时候完成自动修整？--> 如何完成拼音的自动分割？   \n",
    "###### 提示：使用第一节课提到的语言模型!"
   ]
  },
  {
   "cell_type": "code",
   "execution_count": 31,
   "metadata": {},
   "outputs": [
    {
     "name": "stdout",
     "output_type": "stream",
     "text": [
      "[('shi', 860634), ('de', 809887), ('n', 691114), ('yi', 682478), ('ji', 645276), ('guo', 430042), ('zhong', 409418), ('zhi', 398612), ('xin', 359619), ('li', 355441)]\n",
      "['ciwai', 'waizi', 'ziben', 'benzhou', 'zhouyue', 'yueri', 'riqi', 'qichu', 'chuxiao', 'xiaomi']\n"
     ]
    }
   ],
   "source": [
    "TOKEN = tokens(CHINESE_CHARATERS_COPYS)\n",
    "words_count = Counter(TOKEN)\n",
    "\n",
    "TOKEN_2_GRAM = [''.join(TOKEN[i:i+2]) for i in range(len(TOKEN[:-2]))]\n",
    "words_count_2 = Counter(TOKEN_2_GRAM)\n",
    "\n",
    "MAX_PLENGTH = max(map(len,TOKEN))\n",
    "\n",
    "print(words_count.most_common(10))\n",
    "print(TOKEN_2_GRAM[:10])"
   ]
  },
  {
   "cell_type": "code",
   "execution_count": 32,
   "metadata": {},
   "outputs": [],
   "source": [
    "def prob_1(word):\n",
    "    if len(word) == 1:\n",
    "        return 0\n",
    "    if word in words_count:\n",
    "        return (words_count[word] + 1) / (len(TOKEN) + len(words_count))\n",
    "    else:\n",
    "        return 1 / (len(TOKEN) + len(words_count))\n",
    "\n",
    "def prob_2(w1, w2):\n",
    "    combine = w1 + w2\n",
    "    if combine in words_count_2:\n",
    "        return (words_count_2[combine] + 1) / (len(TOKEN_2_GRAM) + len(words_count_2)) / prob_1(w1)\n",
    "    else:\n",
    "        return 1 / (len(TOKEN_2_GRAM) + len(words_count_2))\n",
    "        \n",
    "def get_probablity(sentence):\n",
    "    words = sentence.split()\n",
    "    sentence_pro = 1\n",
    "    \n",
    "    for i, word in enumerate(words[:-1]):\n",
    "        next_ = words[i+1]       \n",
    "        probability = prob_2(word, next_)\n",
    "        sentence_pro *= probability\n",
    "    \n",
    "    return sentence_pro"
   ]
  },
  {
   "cell_type": "code",
   "execution_count": 33,
   "metadata": {},
   "outputs": [],
   "source": [
    "def split_sentence(sentence):\n",
    "    i = 0\n",
    "    cands = []\n",
    "    while i < len(sentence):       \n",
    "        candicate = []\n",
    "        for j in range(2, MAX_PLENGTH+2):\n",
    "            word = sentence[i: i+j]\n",
    "            word_c = correct(word)\n",
    "            prod_word_c = prob_1(word_c)\n",
    "            if prod_word_c > 1e-4:\n",
    "                candicate.append((j, word, word_c, prob_1(word), prod_word_c))\n",
    "        if candicate:\n",
    "            candicate_tmp = sorted(candicate, key=lambda x: (-x[-2], -x[-1]))\n",
    "            if len(candicate_tmp) > 3:\n",
    "                candicate_tmp = candicate_tmp[:3]\n",
    "            cands.append(list(set([x[2] for x in candicate_tmp])))\n",
    "            i += candicate_tmp[0][0]\n",
    "        else:\n",
    "            i += 1\n",
    "    return cands"
   ]
  },
  {
   "cell_type": "code",
   "execution_count": 34,
   "metadata": {},
   "outputs": [],
   "source": [
    "def word_comb(l1, l2):\n",
    "    res = []\n",
    "    for i in l1:\n",
    "        for j in l2:\n",
    "            res.append((i + \" \" + j).strip())\n",
    "    return res"
   ]
  },
  {
   "cell_type": "code",
   "execution_count": 35,
   "metadata": {},
   "outputs": [],
   "source": [
    "def best_sentence(sentence):\n",
    "    cands = split_sentence(sentence) \n",
    "    sences = cands[0]\n",
    "    for w in cands[1:]:\n",
    "        sences = word_comb(sences, w)\n",
    "\n",
    "    sences_prob = []\n",
    "    for s in sences:\n",
    "        if len(s.split()) == len(cands):\n",
    "            sences_prob.append((s, get_probablity(s)))\n",
    "    \n",
    "    return sorted(sences_prob, key=lambda x: -x[-1])[0][0]"
   ]
  },
  {
   "cell_type": "code",
   "execution_count": 36,
   "metadata": {},
   "outputs": [
    {
     "data": {
      "text/plain": [
       "'wo yao shang qing hua'"
      ]
     },
     "execution_count": 36,
     "metadata": {},
     "output_type": "execute_result"
    }
   ],
   "source": [
    "best_sentence('woyaoshangqinghua')"
   ]
  },
  {
   "cell_type": "code",
   "execution_count": 37,
   "metadata": {},
   "outputs": [
    {
     "data": {
      "text/plain": [
       "'wo yao shang qing hua'"
      ]
     },
     "execution_count": 37,
     "metadata": {},
     "output_type": "execute_result"
    }
   ],
   "source": [
    "best_sentence('wo yaoshangqinghua')"
   ]
  },
  {
   "cell_type": "code",
   "execution_count": 38,
   "metadata": {},
   "outputs": [
    {
     "data": {
      "text/plain": [
       "'wo yao shang qing hua'"
      ]
     },
     "execution_count": 38,
     "metadata": {},
     "output_type": "execute_result"
    }
   ],
   "source": [
    "best_sentence('woyao shangqinghua')"
   ]
  },
  {
   "cell_type": "code",
   "execution_count": 39,
   "metadata": {},
   "outputs": [
    {
     "data": {
      "text/plain": [
       "'wu yao shang qing hua'"
      ]
     },
     "execution_count": 39,
     "metadata": {},
     "output_type": "execute_result"
    }
   ],
   "source": [
    "best_sentence('w yaoshangqinghua')"
   ]
  },
  {
   "cell_type": "code",
   "execution_count": null,
   "metadata": {},
   "outputs": [],
   "source": []
  }
 ],
 "metadata": {
  "kernelspec": {
   "display_name": "Python 3",
   "language": "python",
   "name": "python3"
  },
  "language_info": {
   "codemirror_mode": {
    "name": "ipython",
    "version": 3
   },
   "file_extension": ".py",
   "mimetype": "text/x-python",
   "name": "python",
   "nbconvert_exporter": "python",
   "pygments_lexer": "ipython3",
   "version": "3.6.3"
  }
 },
 "nbformat": 4,
 "nbformat_minor": 2
}
